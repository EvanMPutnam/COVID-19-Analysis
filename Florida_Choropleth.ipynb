{
 "cells": [
  {
   "cell_type": "code",
   "execution_count": 1,
   "metadata": {},
   "outputs": [],
   "source": [
    "import plotly.express as px\n",
    "import pandas as pd\n",
    "from urllib.request import urlopen\n",
    "import ipywidgets as widgets\n",
    "import json\n"
   ]
  },
  {
   "cell_type": "code",
   "execution_count": 2,
   "metadata": {
    "scrolled": true
   },
   "outputs": [],
   "source": [
    "# load in counties, and filter out everying but florida ones\n",
    "counties = None\n",
    "with open(\"geojson-counties-fips.json\") as f:\n",
    "    counties = json.load(f)\n",
    "\n",
    "florida_counties = {'type': 'FeatureCollection'}\n",
    "florida_counties['features'] = list(filter(lambda entry: entry[\"properties\"]['STATE']=='12', counties['features']))"
   ]
  },
  {
   "cell_type": "code",
   "execution_count": 3,
   "metadata": {},
   "outputs": [
    {
     "name": "stderr",
     "output_type": "stream",
     "text": [
      "/Library/Frameworks/Python.framework/Versions/3.7/lib/python3.7/site-packages/ipykernel_launcher.py:6: SettingWithCopyWarning: \n",
      "A value is trying to be set on a copy of a slice from a DataFrame\n",
      "\n",
      "See the caveats in the documentation: https://pandas.pydata.org/pandas-docs/stable/user_guide/indexing.html#returning-a-view-versus-a-copy\n",
      "  \n"
     ]
    }
   ],
   "source": [
    "# load in deaths per day per county\n",
    "deaths = pd.read_csv(\"time_series_covid19_deaths_US.csv\", dtype={'FIPS':str})\n",
    "data_types_dict = {'FIPS': str} \n",
    "deaths = deaths.astype(data_types_dict) \n",
    "for i, fip in enumerate(deaths[\"FIPS\"]):\n",
    "    deaths[\"FIPS\"][i] = deaths[\"FIPS\"][i][:-2]"
   ]
  },
  {
   "cell_type": "code",
   "execution_count": 5,
   "metadata": {},
   "outputs": [],
   "source": [
    "# create slider\n",
    "slider = widgets.SelectionSlider(\n",
    "    options=list(deaths.columns[12:]),\n",
    "    #value='sunny side up',\n",
    "    description='Day',\n",
    "    disabled=False,\n",
    "    continuous_update=False,\n",
    "    orientation='horizontal',\n",
    "    readout=True\n",
    ")"
   ]
  },
  {
   "cell_type": "code",
   "execution_count": 6,
   "metadata": {},
   "outputs": [
    {
     "data": {
      "application/vnd.jupyter.widget-view+json": {
       "model_id": "7036f61cd65d4f98a933e151e13cbdff",
       "version_major": 2,
       "version_minor": 0
      },
      "text/plain": [
       "interactive(children=(SelectionSlider(continuous_update=False, description='Day', options=('1/22/20', '1/23/20…"
      ]
     },
     "metadata": {},
     "output_type": "display_data"
    },
    {
     "data": {
      "text/plain": [
       "<function __main__.plot_florida(date)>"
      ]
     },
     "execution_count": 6,
     "metadata": {},
     "output_type": "execute_result"
    }
   ],
   "source": [
    "# plot the florida choropleth\n",
    "def plot_florida(date):\n",
    "    fig = px.choropleth(deaths, geojson=florida_counties, locations='FIPS', color=date,\n",
    "                           #color_continuous_scale=\"Viridis\",\n",
    "                           range_color=(0,4000),\n",
    "                           #scope=\"floria\",\n",
    "                           labels={'unemp':'unemployment rate'},\n",
    "                        #fixedrange=True\n",
    "                          )\n",
    "    fig.update_layout(margin={\"r\":0,\"t\":0,\"l\":0,\"b\":0})\n",
    "    fig.update_geos(fitbounds=\"locations\", visible=False)\n",
    "    fig.show()\n",
    "\n",
    "widgets.interact(plot_florida,date=slider)"
   ]
  },
  {
   "cell_type": "code",
   "execution_count": 8,
   "metadata": {},
   "outputs": [
    {
     "data": {
      "application/vnd.jupyter.widget-view+json": {
       "model_id": "33f01cd569ce4dba9f163feafefe95e4",
       "version_major": 2,
       "version_minor": 0
      },
      "text/plain": [
       "interactive(children=(SelectionSlider(continuous_update=False, description='Day', index=263, options=('1/22/20…"
      ]
     },
     "metadata": {},
     "output_type": "display_data"
    },
    {
     "data": {
      "text/plain": [
       "<function __main__.plot(date)>"
      ]
     },
     "execution_count": 8,
     "metadata": {},
     "output_type": "execute_result"
    }
   ],
   "source": [
    "# plot United States\n",
    "def plot(date):\n",
    "    fig = px.choropleth(deaths, geojson=counties, locations='FIPS', color=\"10/2/20\",\n",
    "                               #color_continuous_scale=\"Viridis\",\n",
    "                               #range_color=(0, 12),\n",
    "                               scope=\"usa\",\n",
    "                               labels={'unemp':'unemployment rate'}\n",
    "                              )\n",
    "    fig.update_layout(margin={\"r\":0,\"t\":0,\"l\":0,\"b\":0})\n",
    "    fig.show()\n",
    "\n",
    "widgets.interact(plot,date=slider)"
   ]
  }
 ],
 "metadata": {
  "kernelspec": {
   "display_name": "Python 3",
   "language": "python",
   "name": "python3"
  },
  "language_info": {
   "codemirror_mode": {
    "name": "ipython",
    "version": 3
   },
   "file_extension": ".py",
   "mimetype": "text/x-python",
   "name": "python",
   "nbconvert_exporter": "python",
   "pygments_lexer": "ipython3",
   "version": "3.7.0"
  }
 },
 "nbformat": 4,
 "nbformat_minor": 4
}
